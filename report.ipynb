{
 "cells": [
  {
   "cell_type": "code",
   "execution_count": 1,
   "metadata": {},
   "outputs": [],
   "source": [
    "%load_ext autoreload\n",
    "%reload_ext autoreload\n",
    "%autoreload 2\n",
    "\n",
    "import torch\n",
    "import numpy as np\n",
    "import matplotlib.pyplot as plt\n",
    "\n",
    "from unityagents import UnityEnvironment\n",
    "\n",
    "from agents.maddpg_agent import MADDPGAgent\n",
    "from config.config import Config\n",
    "\n",
    "%matplotlib inline"
   ]
  },
  {
   "cell_type": "code",
   "execution_count": 2,
   "metadata": {},
   "outputs": [
    {
     "name": "stderr",
     "output_type": "stream",
     "text": [
      "INFO:unityagents:\n",
      "'Academy' started successfully!\n",
      "Unity Academy name: Academy\n",
      "        Number of Brains: 1\n",
      "        Number of External Brains : 1\n",
      "        Lesson number : 0\n",
      "        Reset Parameters :\n",
      "\t\t\n",
      "Unity brain name: TennisBrain\n",
      "        Number of Visual Observations (per agent): 0\n",
      "        Vector Observation space type: continuous\n",
      "        Vector Observation space size (per agent): 8\n",
      "        Number of stacked Vector Observation: 3\n",
      "        Vector Action space type: continuous\n",
      "        Vector Action space size (per agent): 2\n",
      "        Vector Action descriptions: , \n"
     ]
    }
   ],
   "source": [
    "config = Config()"
   ]
  },
  {
   "cell_type": "code",
   "execution_count": 3,
   "metadata": {},
   "outputs": [],
   "source": [
    "def print_env_information(config):\n",
    "    config.env_info = config.env.reset(train_mode=False)[config.brain_name]\n",
    "    config.num_agents = len(config.env_info.agents)\n",
    "    print('Number of agents:', config.num_agents)\n",
    "    print('Size of each action:', config.action_dim)\n",
    "    config.states = config.env_info.vector_observations\n",
    "    print('There are {} agents. Each observes a state with length: {}'.format(config.states.shape[0], config.state_dim))\n",
    "    print('The state for the first agent looks like:', config.states[0])\n",
    "\n",
    "\n",
    "def run_random_env(config):\n",
    "    env_info = config.env.reset(train_mode=False)[config.brain_name]\n",
    "    states = env_info.vector_observations\n",
    "    scores = np.zeros(config.num_agents)\n",
    "    steps = 1\n",
    "    while True:\n",
    "        actions = np.random.randn(config.num_agents, config.action_dim)\n",
    "        actions = np.clip(actions, -1, 1)\n",
    "        env_info = config.env.step(actions)[config.brain_name]\n",
    "        next_states = env_info.vector_observations\n",
    "        rewards = env_info.rewards\n",
    "        dones = env_info.local_done\n",
    "        scores += env_info.rewards\n",
    "        states = next_states\n",
    "        if np.any(dones):\n",
    "            print('Scores:')\n",
    "            print(scores)\n",
    "            # print('Environment done after {} steps'.format(t))\n",
    "            break\n",
    "    print('Total score (averaged over agents) this episode: {}'.format(np.mean(scores)))"
   ]
  },
  {
   "cell_type": "code",
   "execution_count": 4,
   "metadata": {},
   "outputs": [
    {
     "name": "stdout",
     "output_type": "stream",
     "text": [
      "Number of agents: 2\n",
      "Size of each action: 2\n",
      "There are 2 agents. Each observes a state with length: 24\n",
      "The state for the first agent looks like: [ 0.          0.          0.          0.          0.          0.\n",
      "  0.          0.          0.          0.          0.          0.\n",
      "  0.          0.          0.          0.         -7.38993645 -1.5\n",
      " -0.          0.          6.83172083  5.99607611 -0.          0.        ]\n",
      "Scores:\n",
      "[-0.01  0.1 ]\n",
      "Total score (averaged over agents) this episode: 0.04500000085681677\n"
     ]
    }
   ],
   "source": [
    "print_env_information(config)\n",
    "run_random_env(config)"
   ]
  },
  {
   "cell_type": "markdown",
   "metadata": {},
   "source": [
    "## MADDPG\n",
    "In the `maddpg_agent.py`, `maddpg_actor.py` and the `maddpg_critic.py` is the setup for the MADDPG algorithm. You can train your own agent and save the weights when you run the `run_maddpg.py`.\n",
    "The small run script trains the agent and saves the weights every 20 episodes and the final weights. Also the score is saved in a numpy file. In the following I will load the saved weights and scores to show the performance"
   ]
  },
  {
   "cell_type": "code",
   "execution_count": 5,
   "metadata": {},
   "outputs": [],
   "source": [
    "agent1 = MADDPGAgent(config, 0)\n",
    "agent2 = MADDPGAgent(config, 1)\n",
    "agent1.load_weights(3203)\n",
    "agent2.load_weights(3203)"
   ]
  },
  {
   "cell_type": "code",
   "execution_count": 6,
   "metadata": {},
   "outputs": [],
   "source": [
    "def run_agent():\n",
    "    env_info = config.env.reset(train_mode=True)[config.brain_name]\n",
    "    states = env_info.vector_observations\n",
    "    scores = np.zeros(config.num_agents)\n",
    "    while True:\n",
    "        action1 = agent1.act(states[0], add_noise=False)\n",
    "        action2 = agent2.act(states[1], add_noise=False)\n",
    "        actions = np.vstack((action1, action2))\n",
    "        env_info = config.env.step(actions)[config.brain_name]\n",
    "        next_states = env_info.vector_observations\n",
    "        rewards = env_info.rewards\n",
    "        dones = env_info.local_done\n",
    "        scores = np.add(scores, np.asarray(rewards))\n",
    "\n",
    "        states = next_states\n",
    "\n",
    "        if np.any(dones):\n",
    "            break\n",
    "    agent1.noise.reset()\n",
    "    agent2.noise.reset()\n",
    "    print(scores)\n",
    "    print(\"Max score this episode from 2 agents: >> {:.2f} <<\".format(scores.max()))"
   ]
  },
  {
   "cell_type": "markdown",
   "metadata": {},
   "source": [
    "The agents do sometimes still have only a low score. Refresh the `run_agent()` cell until you get a higher score"
   ]
  },
  {
   "cell_type": "code",
   "execution_count": 11,
   "metadata": {},
   "outputs": [
    {
     "name": "stdout",
     "output_type": "stream",
     "text": [
      "[2.60000004 2.60000004]\n",
      "Max score this episode from 2 agents: >> 2.60 <<\n"
     ]
    }
   ],
   "source": [
    "run_agent()"
   ]
  },
  {
   "cell_type": "code",
   "execution_count": 34,
   "metadata": {},
   "outputs": [
    {
     "data": {
      "image/png": "[encoded data removed]",
      "text/plain": [
       "<Figure size 720x576 with 1 Axes>"
      ]
     },
     "metadata": {
      "needs_background": "light"
     },
     "output_type": "display_data"
    }
   ],
   "source": [
    "scores = np.load('weights/maddpg/maddpg_final.npy')\n",
    "maxes = scores.max(axis=1)\n",
    "mins = scores.min(axis=1)\n",
    "\n",
    "means_l = []\n",
    "for i in range(len(scores)):\n",
    "    if i >= 100:\n",
    "        mean_of_max = np.mean(maxes[i:i+100])\n",
    "        means_l.append(mean_of_max)\n",
    "\n",
    "means = np.asarray(means_l)\n",
    "x = np.arange(len(scores))\n",
    "x_mean = np.arange(100,len(means)+100)\n",
    "fig, axs = plt.subplots(1, 1, figsize=(10,8))\n",
    "\n",
    "axs1 = plt.plot(x, maxes)\n",
    "axs1 = plt.plot(x_mean, means, color='red', linewidth=2)\n",
    "# axs1 = plt.scatter(x, maxes)"
   ]
  },
  {
   "cell_type": "code",
   "execution_count": 35,
   "metadata": {},
   "outputs": [],
   "source": [
    "config.env.close()"
   ]
  },
  {
   "cell_type": "code",
   "execution_count": null,
   "metadata": {},
   "outputs": [],
   "source": []
  }
 ],
 "metadata": {
  "kernelspec": {
   "display_name": "Python 3",
   "language": "python",
   "name": "python3"
  },
  "language_info": {
   "codemirror_mode": {
    "name": "ipython",
    "version": 3
   },
   "file_extension": ".py",
   "mimetype": "text/x-python",
   "name": "python",
   "nbconvert_exporter": "python",
   "pygments_lexer": "ipython3",
   "version": "3.6.8"
  }
 },
 "nbformat": 4,
 "nbformat_minor": 2
}
